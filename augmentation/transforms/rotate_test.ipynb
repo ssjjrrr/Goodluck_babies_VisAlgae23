{
 "cells": [
  {
   "cell_type": "code",
   "execution_count": 14,
   "metadata": {},
   "outputs": [],
   "source": [
    "import cv2 as cv\n",
    "import numpy as np\n",
    "import random\n",
    "\n",
    "# 加载藻类图像和背景图像\n",
    "image_algae = cv.imread('D:/Goodluck_babies_VisAlgae23/augmentation/random_gen/gen_augmenter_src/algaes/5Haematococcus pluvialis\\83.jpg')  # 替换为藻类图像的路径\n",
    "image_bg = cv.imread('D:/Goodluck_babies_VisAlgae23/augmentation/random_gen/gen_augmenter_src/backgrounds/back_0.jpg')  # 替换为背景图像的路径\n",
    "\n",
    "# 定义旋转的角度\n",
    "angle = 10  # 旋转45度\n",
    "\n",
    "# 获取旋转矩阵\n",
    "image_center = tuple(np.array(image_algae.shape[1::-1]) / 2)\n",
    "rot_mat = cv.getRotationMatrix2D(image_center, angle, 1.0)\n",
    "\n",
    "# 旋转藻类图像\n",
    "rotated_algae = cv.warpAffine(image_algae, rot_mat, image_algae.shape[1::-1], flags=cv.INTER_LINEAR)\n",
    "\n",
    "# 创建旋转后的图像掩码\n",
    "mask = np.zeros(rotated_algae.shape[:2], dtype=np.uint8)\n",
    "mask[rotated_algae.any(axis=-1)] = 255\n",
    "\n",
    "# 设置无缝克隆的中心位置（可能需要调整）\n",
    "center = (image_bg.shape[1] // 2, image_bg.shape[0] // 2)\n",
    "\n",
    "# 执行无缝克隆\n",
    "blended_image = cv.seamlessClone(rotated_algae, image_bg, mask, center, cv.NORMAL_CLONE)\n",
    "\n",
    "# 显示或保存结果\n",
    "cv.imshow('Blended Image', blended_image)\n",
    "cv.waitKey(0)\n",
    "cv.destroyAllWindows()"
   ]
  }
 ],
 "metadata": {
  "kernelspec": {
   "display_name": "tv",
   "language": "python",
   "name": "python3"
  },
  "language_info": {
   "codemirror_mode": {
    "name": "ipython",
    "version": 3
   },
   "file_extension": ".py",
   "mimetype": "text/x-python",
   "name": "python",
   "nbconvert_exporter": "python",
   "pygments_lexer": "ipython3",
   "version": "3.8.18"
  }
 },
 "nbformat": 4,
 "nbformat_minor": 2
}
