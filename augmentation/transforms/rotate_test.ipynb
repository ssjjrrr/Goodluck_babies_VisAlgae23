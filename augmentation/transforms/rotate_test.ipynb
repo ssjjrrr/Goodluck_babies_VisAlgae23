{
 "cells": [
  {
   "cell_type": "code",
   "execution_count": 73,
   "metadata": {},
   "outputs": [
    {
     "name": "stdout",
     "output_type": "stream",
     "text": [
      "[[0.76604444 0.64278761]\n",
      " [0.64278761 0.76604444]]\n",
      "[[142.08927017 138.26830834]]\n"
     ]
    }
   ],
   "source": [
    "import cv2 as cv\n",
    "import numpy as np\n",
    "import random\n",
    "\n",
    "# 加载藻类图像和背景图像\n",
    "image_algae = cv.imread('F:/github/Goodluck_babies_VisAlgae23/augmentation/random_gen/gen_augmenter_src/algaes/5Haematococcus pluvialis\\83.jpg')  # 替换为藻类图像的路径\n",
    "image_bg = cv.imread('F:/github/Goodluck_babies_VisAlgae23/augmentation/random_gen/gen_augmenter_src/backgrounds/back_0.jpg')  # 替换为背景图像的路径\n",
    "\n",
    "# 定义旋转的角度\n",
    "angle = 40  # 旋转45度\n",
    "\n",
    "# 获取旋转矩阵\n",
    "image_center = tuple(np.array(image_algae.shape[1::-1]) / 2)\n",
    "rot_mat = cv.getRotationMatrix2D(image_center, angle, 1.0)\n",
    "\n",
    "\n",
    "sin_cos = rot_mat[:,1]  #从旋转矩阵中获取sin与cos\n",
    "size_convert = np.mat([[sin_cos[1],sin_cos[0]],[sin_cos[0],sin_cos[1]]])    #计算形状变化的矩阵（可用于bbox的w，h）\n",
    "alg_size = image_algae.shape[1::-1]\n",
    "out_size = np.dot(alg_size , size_convert)\n",
    "w_convert = int(out_size[:,0])  #旋转后的宽\n",
    "h_convert = int(out_size[:,1])  #旋转后的高\n",
    "\n",
    "# 旋转藻类图像\n",
    "rotated_algae = cv.warpAffine(image_algae, rot_mat, (w_convert,h_convert), flags=cv.INTER_LINEAR, borderMode=cv.BORDER_REPLICATE)\n",
    "\n",
    "# 创建旋转后的图像掩码\n",
    "mask = np.zeros(rotated_algae.shape[:2], dtype=np.uint8)\n",
    "mask[rotated_algae.any(axis=-1)] = 255\n",
    "\n",
    "# 设置无缝克隆的中心位置（可能需要调整）\n",
    "center = (image_bg.shape[1] // 2, image_bg.shape[0] // 2)\n",
    "\n",
    "# 执行无缝克隆\n",
    "blended_image = cv.seamlessClone(rotated_algae, image_bg, mask, center, cv.NORMAL_CLONE)\n",
    "\n",
    "# 显示或保存结果\n",
    "cv.imshow('Blended Image', blended_image)\n",
    "cv.waitKey(0)\n",
    "cv.destroyAllWindows()"
   ]
  },
  {
   "cell_type": "code",
   "execution_count": null,
   "metadata": {},
   "outputs": [],
   "source": []
  }
 ],
 "metadata": {
  "kernelspec": {
   "display_name": "tv",
   "language": "python",
   "name": "python3"
  },
  "language_info": {
   "codemirror_mode": {
    "name": "ipython",
    "version": 3
   },
   "file_extension": ".py",
   "mimetype": "text/x-python",
   "name": "python",
   "nbconvert_exporter": "python",
   "pygments_lexer": "ipython3",
   "version": "3.8.18"
  }
 },
 "nbformat": 4,
 "nbformat_minor": 2
}
